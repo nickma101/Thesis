{
 "cells": [
  {
   "cell_type": "markdown",
   "metadata": {},
   "source": [
    "# Assessing impartiality\n",
    "   \n",
    "In this notebook, I use three classifiers to predict the impartiality indicators neutrality, balance of actors, and balance of viewpoints, before combining them into an overall index. "
   ]
  },
  {
   "cell_type": "markdown",
   "metadata": {},
   "source": [
    "## Load packages"
   ]
  },
  {
   "cell_type": "code",
   "execution_count": 1,
   "metadata": {},
   "outputs": [],
   "source": [
    "#import relevant packages\n",
    "import pandas as pd\n",
    "from pandas import read_excel\n",
    "import joblib\n",
    "import numpy as np\n",
    "from sklearn import svm\n",
    "from sklearn.neighbors import KNeighborsClassifier\n",
    "from sklearn.svm import LinearSVC\n",
    "from sklearn.feature_extraction.text import TfidfVectorizer, CountVectorizer\n",
    "from sklearn.pipeline import Pipeline\n",
    "from sklearn.metrics import classification_report, confusion_matrix, accuracy_score\n",
    "from sklearn.model_selection import RandomizedSearchCV, ShuffleSplit, GridSearchCV, train_test_split\n",
    "from sklearn.feature_selection import SelectKBest, chi2\n",
    "from sklearn.linear_model import SGDClassifier\n",
    "from sklearn.naive_bayes import GaussianNB, MultinomialNB"
   ]
  },
  {
   "cell_type": "markdown",
   "metadata": {},
   "source": [
    "## Import classifiers"
   ]
  },
  {
   "cell_type": "code",
   "execution_count": 2,
   "metadata": {},
   "outputs": [],
   "source": [
    "classifier_neu = joblib.load(\"classifier_neu.pkl\")\n",
    "classifier_boa = joblib.load(\"classifier_boa.pkl\")\n",
    "classifier_bov = joblib.load(\"classifier_bov.pkl\")"
   ]
  },
  {
   "cell_type": "markdown",
   "metadata": {},
   "source": [
    "## Read data"
   ]
  },
  {
   "cell_type": "code",
   "execution_count": 3,
   "metadata": {},
   "outputs": [
    {
     "name": "stdout",
     "output_type": "stream",
     "text": [
      "11491 487\n"
     ]
    }
   ],
   "source": [
    "#read in the complete cleaned dataset\n",
    "df = read_excel(\"complete_data_cleaned.xlsx\")\n",
    "mca = read_excel(\"mca_cleaned.xlsx\")\n",
    "#inspect data\n",
    "print(len(df), len(mca))"
   ]
  },
  {
   "cell_type": "markdown",
   "metadata": {},
   "source": [
    "## Vectorise data"
   ]
  },
  {
   "cell_type": "code",
   "execution_count": 6,
   "metadata": {},
   "outputs": [
    {
     "name": "stdout",
     "output_type": "stream",
     "text": [
      "(11491, 200)\n",
      "(487, 200)\n"
     ]
    }
   ],
   "source": [
    "# create a count vectorizer object \n",
    "count_vect = CountVectorizer(analyzer=\"word\", \n",
    "                             token_pattern=r\"\\w{1,10}\", \n",
    "                             min_df = 10, \n",
    "                             max_df = 1., \n",
    "                             max_features=200)\n",
    "\n",
    "#features for training\n",
    "count_vectors_clean = count_vect.fit_transform(df[\"clean text\"]).toarray()\n",
    "count_vectors_full = count_vect.fit_transform(df[\"Article\"]).toarray()\n",
    "\n",
    "#features for testing\n",
    "count_vectors_clean2 = count_vect.fit_transform(mca[\"clean text\"]).toarray()\n",
    "count_vectors_full2 = count_vect.fit_transform(mca[\"Article\"]).toarray()\n",
    "\n",
    "#inspect the shape\n",
    "print(count_vectors_clean.shape)\n",
    "print(count_vectors_clean2.shape)"
   ]
  },
  {
   "cell_type": "code",
   "execution_count": 7,
   "metadata": {},
   "outputs": [
    {
     "name": "stdout",
     "output_type": "stream",
     "text": [
      "(11491, 200)\n",
      "(487, 200)\n"
     ]
    }
   ],
   "source": [
    "# unigrams\n",
    "tfidf_vect_ug = TfidfVectorizer(analyzer='word', \n",
    "                             token_pattern=r'\\w{1,}',\n",
    "                             ngram_range = (1,1),\n",
    "                             min_df = 10, \n",
    "                             max_df = 1., \n",
    "                             max_features=200)\n",
    "\n",
    "# bigrams\n",
    "tfidf_vect_bg = TfidfVectorizer(analyzer='word', \n",
    "                             token_pattern=r'\\w{1,}',\n",
    "                             ngram_range = (2,2),\n",
    "                             min_df = 10, \n",
    "                             max_df = 1., \n",
    "                             max_features=5) #otherwise there is an error\n",
    "\n",
    "# unigrams and bigrams\n",
    "tfidf_vect_ubg = TfidfVectorizer(analyzer='word', \n",
    "                             token_pattern=r'\\w{1,}',\n",
    "                             ngram_range = (1,2),\n",
    "                             min_df = 10, \n",
    "                             max_df = 1., \n",
    "                             max_features=200)\n",
    "\n",
    "\n",
    "#unigrams\n",
    "tfidf_ug_vectors_clean = tfidf_vect_ug.fit_transform(df[\"clean text\"]).toarray()\n",
    "tfidf_ug_vectors_clean2 = tfidf_vect_ug.fit_transform(mca[\"clean text\"]).toarray()\n",
    "tfidf_ug_vectors_full = tfidf_vect_ug.fit_transform(df[\"Article\"]).toarray()\n",
    "tfidf_ug_vectors_full2 = tfidf_vect_ug.fit_transform(mca[\"Article\"]).toarray()\n",
    "#bigrams\n",
    "tfidf_bg_vectors_clean = tfidf_vect_bg.fit_transform(df[\"clean text\"]).toarray()\n",
    "tfidf_bg_vectors_clean2 = tfidf_vect_bg.fit_transform(mca[\"clean text\"]).toarray()\n",
    "tfidf_bg_vectors_full = tfidf_vect_bg.fit_transform(df[\"Article\"]).toarray()\n",
    "tfidf_bg_vectors_full2 = tfidf_vect_bg.fit_transform(mca[\"Article\"]).toarray()\n",
    "#uni and bigrams\n",
    "tfidf_ubg_vectors_clean = tfidf_vect_ubg.fit_transform(df[\"clean text\"]).toarray()\n",
    "tfidf_ubg_vectors_clean2 = tfidf_vect_ubg.fit_transform(mca[\"clean text\"]).toarray()\n",
    "tfidf_ubg_vectors_full = tfidf_vect_ubg.fit_transform(df[\"Article\"]).toarray()\n",
    "tfidf_ubg_vectors_full2 = tfidf_vect_ubg.fit_transform(mca[\"Article\"]).toarray()\n",
    "\n",
    "#inspect the shape\n",
    "print(tfidf_ug_vectors_clean.shape)\n",
    "print(tfidf_ug_vectors_clean2.shape)"
   ]
  },
  {
   "cell_type": "markdown",
   "metadata": {},
   "source": [
    "## Apply the classifiers"
   ]
  },
  {
   "cell_type": "code",
   "execution_count": 8,
   "metadata": {},
   "outputs": [
    {
     "data": {
      "text/plain": [
       "0    5779\n",
       "1    5712\n",
       "Name: neutrality dummy, dtype: int64"
      ]
     },
     "execution_count": 8,
     "metadata": {},
     "output_type": "execute_result"
    }
   ],
   "source": [
    "results = classifier_neu.predict(count_vectors_clean)\n",
    "#save the results in a new column\n",
    "df[\"neutrality dummy\"] = results\n",
    "#inspect the results\n",
    "df[\"neutrality dummy\"].value_counts()"
   ]
  },
  {
   "cell_type": "code",
   "execution_count": 9,
   "metadata": {},
   "outputs": [
    {
     "data": {
      "text/plain": [
       "0    8410\n",
       "1    3081\n",
       "Name: balance of actors dummy, dtype: int64"
      ]
     },
     "execution_count": 9,
     "metadata": {},
     "output_type": "execute_result"
    }
   ],
   "source": [
    "results = classifier_boa.predict(tfidf_ubg_vectors_full)\n",
    "#save the results in a new column\n",
    "df[\"balance of actors dummy\"] = results\n",
    "#inspect the results\n",
    "df[\"balance of actors dummy\"].value_counts()"
   ]
  },
  {
   "cell_type": "code",
   "execution_count": 10,
   "metadata": {},
   "outputs": [
    {
     "data": {
      "text/plain": [
       "1    7144\n",
       "0    4347\n",
       "Name: balance of viewpoints dummy, dtype: int64"
      ]
     },
     "execution_count": 10,
     "metadata": {},
     "output_type": "execute_result"
    }
   ],
   "source": [
    "results = classifier_boa.predict(count_vectors_full)\n",
    "#save the results in a new column\n",
    "df[\"balance of viewpoints dummy\"] = results\n",
    "#inspect the results\n",
    "df[\"balance of viewpoints dummy\"].value_counts()"
   ]
  },
  {
   "cell_type": "markdown",
   "metadata": {},
   "source": [
    "## Create index"
   ]
  },
  {
   "cell_type": "code",
   "execution_count": 11,
   "metadata": {},
   "outputs": [],
   "source": [
    "df[\"impartiality\"] = df[\"balance of viewpoints dummy\"] + df[\"balance of actors dummy\"] + df[\"neutrality dummy\"]"
   ]
  },
  {
   "cell_type": "markdown",
   "metadata": {},
   "source": [
    "## Inspect data"
   ]
  },
  {
   "cell_type": "code",
   "execution_count": 12,
   "metadata": {},
   "outputs": [
    {
     "data": {
      "text/html": [
       "<div>\n",
       "<style scoped>\n",
       "    .dataframe tbody tr th:only-of-type {\n",
       "        vertical-align: middle;\n",
       "    }\n",
       "\n",
       "    .dataframe tbody tr th {\n",
       "        vertical-align: top;\n",
       "    }\n",
       "\n",
       "    .dataframe thead th {\n",
       "        text-align: right;\n",
       "    }\n",
       "</style>\n",
       "<table border=\"1\" class=\"dataframe\">\n",
       "  <thead>\n",
       "    <tr style=\"text-align: right;\">\n",
       "      <th></th>\n",
       "      <th>Unnamed: 0</th>\n",
       "      <th>ID</th>\n",
       "      <th>Length</th>\n",
       "      <th>words in clean text</th>\n",
       "      <th>reach_dummy</th>\n",
       "      <th>modality_dummy</th>\n",
       "      <th>neutrality dummy</th>\n",
       "      <th>balance of actors dummy</th>\n",
       "      <th>balance of viewpoints dummy</th>\n",
       "      <th>impartiality</th>\n",
       "    </tr>\n",
       "    <tr>\n",
       "      <th>Newspaper</th>\n",
       "      <th></th>\n",
       "      <th></th>\n",
       "      <th></th>\n",
       "      <th></th>\n",
       "      <th></th>\n",
       "      <th></th>\n",
       "      <th></th>\n",
       "      <th></th>\n",
       "      <th></th>\n",
       "      <th></th>\n",
       "    </tr>\n",
       "  </thead>\n",
       "  <tbody>\n",
       "    <tr>\n",
       "      <th>Aachener Zeitung</th>\n",
       "      <td>492.615464</td>\n",
       "      <td>493.615464</td>\n",
       "      <td>484.008247</td>\n",
       "      <td>294.691753</td>\n",
       "      <td>0.0</td>\n",
       "      <td>1.0</td>\n",
       "      <td>0.586598</td>\n",
       "      <td>0.286598</td>\n",
       "      <td>0.611340</td>\n",
       "      <td>1.484536</td>\n",
       "    </tr>\n",
       "    <tr>\n",
       "      <th>Der Tagesspiegel</th>\n",
       "      <td>10927.010886</td>\n",
       "      <td>10928.010886</td>\n",
       "      <td>574.946345</td>\n",
       "      <td>345.008554</td>\n",
       "      <td>1.0</td>\n",
       "      <td>1.0</td>\n",
       "      <td>0.462675</td>\n",
       "      <td>0.250389</td>\n",
       "      <td>0.646190</td>\n",
       "      <td>1.359253</td>\n",
       "    </tr>\n",
       "    <tr>\n",
       "      <th>Die Welt</th>\n",
       "      <td>1407.464501</td>\n",
       "      <td>1408.464501</td>\n",
       "      <td>774.438026</td>\n",
       "      <td>458.566787</td>\n",
       "      <td>1.0</td>\n",
       "      <td>1.0</td>\n",
       "      <td>0.216606</td>\n",
       "      <td>0.268351</td>\n",
       "      <td>0.593261</td>\n",
       "      <td>1.078219</td>\n",
       "    </tr>\n",
       "    <tr>\n",
       "      <th>Rheinische Post</th>\n",
       "      <td>3486.029474</td>\n",
       "      <td>3487.029474</td>\n",
       "      <td>377.456000</td>\n",
       "      <td>227.909895</td>\n",
       "      <td>0.0</td>\n",
       "      <td>1.0</td>\n",
       "      <td>0.616000</td>\n",
       "      <td>0.227789</td>\n",
       "      <td>0.663579</td>\n",
       "      <td>1.507368</td>\n",
       "    </tr>\n",
       "    <tr>\n",
       "      <th>Stuttgarter Zeitung</th>\n",
       "      <td>5749.415521</td>\n",
       "      <td>5750.415521</td>\n",
       "      <td>394.241714</td>\n",
       "      <td>236.194826</td>\n",
       "      <td>0.0</td>\n",
       "      <td>1.0</td>\n",
       "      <td>0.586904</td>\n",
       "      <td>0.264349</td>\n",
       "      <td>0.599838</td>\n",
       "      <td>1.451091</td>\n",
       "    </tr>\n",
       "    <tr>\n",
       "      <th>Süddeutsche Zeitung (inkl. Regionalausgaben)</th>\n",
       "      <td>8341.211828</td>\n",
       "      <td>8342.211828</td>\n",
       "      <td>529.366129</td>\n",
       "      <td>312.950806</td>\n",
       "      <td>1.0</td>\n",
       "      <td>1.0</td>\n",
       "      <td>0.428226</td>\n",
       "      <td>0.295699</td>\n",
       "      <td>0.620699</td>\n",
       "      <td>1.344624</td>\n",
       "    </tr>\n",
       "    <tr>\n",
       "      <th>aachener zeitung (www)</th>\n",
       "      <td>4215.535714</td>\n",
       "      <td>104215.535714</td>\n",
       "      <td>401.488095</td>\n",
       "      <td>247.351190</td>\n",
       "      <td>0.0</td>\n",
       "      <td>0.0</td>\n",
       "      <td>0.595238</td>\n",
       "      <td>0.345238</td>\n",
       "      <td>0.523810</td>\n",
       "      <td>1.464286</td>\n",
       "    </tr>\n",
       "    <tr>\n",
       "      <th>der tagesspiegel (www)</th>\n",
       "      <td>4147.094697</td>\n",
       "      <td>104147.094697</td>\n",
       "      <td>574.189394</td>\n",
       "      <td>340.988636</td>\n",
       "      <td>1.0</td>\n",
       "      <td>0.0</td>\n",
       "      <td>0.390152</td>\n",
       "      <td>0.204545</td>\n",
       "      <td>0.537879</td>\n",
       "      <td>1.132576</td>\n",
       "    </tr>\n",
       "    <tr>\n",
       "      <th>die welt (www)</th>\n",
       "      <td>3980.395480</td>\n",
       "      <td>103980.395480</td>\n",
       "      <td>578.751412</td>\n",
       "      <td>346.711864</td>\n",
       "      <td>1.0</td>\n",
       "      <td>0.0</td>\n",
       "      <td>0.440678</td>\n",
       "      <td>0.293785</td>\n",
       "      <td>0.564972</td>\n",
       "      <td>1.299435</td>\n",
       "    </tr>\n",
       "    <tr>\n",
       "      <th>rheinische post (www)</th>\n",
       "      <td>4260.479769</td>\n",
       "      <td>104260.479769</td>\n",
       "      <td>338.699422</td>\n",
       "      <td>206.323699</td>\n",
       "      <td>0.0</td>\n",
       "      <td>0.0</td>\n",
       "      <td>0.710983</td>\n",
       "      <td>0.248555</td>\n",
       "      <td>0.653179</td>\n",
       "      <td>1.612717</td>\n",
       "    </tr>\n",
       "    <tr>\n",
       "      <th>stuttgarter zeitung (www)</th>\n",
       "      <td>3915.982609</td>\n",
       "      <td>103915.982609</td>\n",
       "      <td>279.678261</td>\n",
       "      <td>170.678261</td>\n",
       "      <td>0.0</td>\n",
       "      <td>0.0</td>\n",
       "      <td>0.817391</td>\n",
       "      <td>0.260870</td>\n",
       "      <td>0.495652</td>\n",
       "      <td>1.573913</td>\n",
       "    </tr>\n",
       "    <tr>\n",
       "      <th>sueddeutschet politik (www)</th>\n",
       "      <td>4142.137143</td>\n",
       "      <td>104142.137143</td>\n",
       "      <td>462.925714</td>\n",
       "      <td>274.440000</td>\n",
       "      <td>1.0</td>\n",
       "      <td>0.0</td>\n",
       "      <td>0.502857</td>\n",
       "      <td>0.302857</td>\n",
       "      <td>0.571429</td>\n",
       "      <td>1.377143</td>\n",
       "    </tr>\n",
       "  </tbody>\n",
       "</table>\n",
       "</div>"
      ],
      "text/plain": [
       "                                                Unnamed: 0             ID  \\\n",
       "Newspaper                                                                   \n",
       "Aachener Zeitung                                492.615464     493.615464   \n",
       "Der Tagesspiegel                              10927.010886   10928.010886   \n",
       "Die Welt                                       1407.464501    1408.464501   \n",
       "Rheinische Post                                3486.029474    3487.029474   \n",
       "Stuttgarter Zeitung                            5749.415521    5750.415521   \n",
       "Süddeutsche Zeitung (inkl. Regionalausgaben)   8341.211828    8342.211828   \n",
       "aachener zeitung (www)                         4215.535714  104215.535714   \n",
       "der tagesspiegel (www)                         4147.094697  104147.094697   \n",
       "die welt (www)                                 3980.395480  103980.395480   \n",
       "rheinische post (www)                          4260.479769  104260.479769   \n",
       "stuttgarter zeitung (www)                      3915.982609  103915.982609   \n",
       "sueddeutschet politik (www)                    4142.137143  104142.137143   \n",
       "\n",
       "                                                  Length  words in clean text  \\\n",
       "Newspaper                                                                       \n",
       "Aachener Zeitung                              484.008247           294.691753   \n",
       "Der Tagesspiegel                              574.946345           345.008554   \n",
       "Die Welt                                      774.438026           458.566787   \n",
       "Rheinische Post                               377.456000           227.909895   \n",
       "Stuttgarter Zeitung                           394.241714           236.194826   \n",
       "Süddeutsche Zeitung (inkl. Regionalausgaben)  529.366129           312.950806   \n",
       "aachener zeitung (www)                        401.488095           247.351190   \n",
       "der tagesspiegel (www)                        574.189394           340.988636   \n",
       "die welt (www)                                578.751412           346.711864   \n",
       "rheinische post (www)                         338.699422           206.323699   \n",
       "stuttgarter zeitung (www)                     279.678261           170.678261   \n",
       "sueddeutschet politik (www)                   462.925714           274.440000   \n",
       "\n",
       "                                              reach_dummy  modality_dummy  \\\n",
       "Newspaper                                                                   \n",
       "Aachener Zeitung                                      0.0             1.0   \n",
       "Der Tagesspiegel                                      1.0             1.0   \n",
       "Die Welt                                              1.0             1.0   \n",
       "Rheinische Post                                       0.0             1.0   \n",
       "Stuttgarter Zeitung                                   0.0             1.0   \n",
       "Süddeutsche Zeitung (inkl. Regionalausgaben)          1.0             1.0   \n",
       "aachener zeitung (www)                                0.0             0.0   \n",
       "der tagesspiegel (www)                                1.0             0.0   \n",
       "die welt (www)                                        1.0             0.0   \n",
       "rheinische post (www)                                 0.0             0.0   \n",
       "stuttgarter zeitung (www)                             0.0             0.0   \n",
       "sueddeutschet politik (www)                           1.0             0.0   \n",
       "\n",
       "                                              neutrality dummy  \\\n",
       "Newspaper                                                        \n",
       "Aachener Zeitung                                      0.586598   \n",
       "Der Tagesspiegel                                      0.462675   \n",
       "Die Welt                                              0.216606   \n",
       "Rheinische Post                                       0.616000   \n",
       "Stuttgarter Zeitung                                   0.586904   \n",
       "Süddeutsche Zeitung (inkl. Regionalausgaben)          0.428226   \n",
       "aachener zeitung (www)                                0.595238   \n",
       "der tagesspiegel (www)                                0.390152   \n",
       "die welt (www)                                        0.440678   \n",
       "rheinische post (www)                                 0.710983   \n",
       "stuttgarter zeitung (www)                             0.817391   \n",
       "sueddeutschet politik (www)                           0.502857   \n",
       "\n",
       "                                              balance of actors dummy  \\\n",
       "Newspaper                                                               \n",
       "Aachener Zeitung                                             0.286598   \n",
       "Der Tagesspiegel                                             0.250389   \n",
       "Die Welt                                                     0.268351   \n",
       "Rheinische Post                                              0.227789   \n",
       "Stuttgarter Zeitung                                          0.264349   \n",
       "Süddeutsche Zeitung (inkl. Regionalausgaben)                 0.295699   \n",
       "aachener zeitung (www)                                       0.345238   \n",
       "der tagesspiegel (www)                                       0.204545   \n",
       "die welt (www)                                               0.293785   \n",
       "rheinische post (www)                                        0.248555   \n",
       "stuttgarter zeitung (www)                                    0.260870   \n",
       "sueddeutschet politik (www)                                  0.302857   \n",
       "\n",
       "                                              balance of viewpoints dummy  \\\n",
       "Newspaper                                                                   \n",
       "Aachener Zeitung                                                 0.611340   \n",
       "Der Tagesspiegel                                                 0.646190   \n",
       "Die Welt                                                         0.593261   \n",
       "Rheinische Post                                                  0.663579   \n",
       "Stuttgarter Zeitung                                              0.599838   \n",
       "Süddeutsche Zeitung (inkl. Regionalausgaben)                     0.620699   \n",
       "aachener zeitung (www)                                           0.523810   \n",
       "der tagesspiegel (www)                                           0.537879   \n",
       "die welt (www)                                                   0.564972   \n",
       "rheinische post (www)                                            0.653179   \n",
       "stuttgarter zeitung (www)                                        0.495652   \n",
       "sueddeutschet politik (www)                                      0.571429   \n",
       "\n",
       "                                              impartiality  \n",
       "Newspaper                                                   \n",
       "Aachener Zeitung                                  1.484536  \n",
       "Der Tagesspiegel                                  1.359253  \n",
       "Die Welt                                          1.078219  \n",
       "Rheinische Post                                   1.507368  \n",
       "Stuttgarter Zeitung                               1.451091  \n",
       "Süddeutsche Zeitung (inkl. Regionalausgaben)      1.344624  \n",
       "aachener zeitung (www)                            1.464286  \n",
       "der tagesspiegel (www)                            1.132576  \n",
       "die welt (www)                                    1.299435  \n",
       "rheinische post (www)                             1.612717  \n",
       "stuttgarter zeitung (www)                         1.573913  \n",
       "sueddeutschet politik (www)                       1.377143  "
      ]
     },
     "execution_count": 12,
     "metadata": {},
     "output_type": "execute_result"
    }
   ],
   "source": [
    "df.groupby(\"Newspaper\").mean()"
   ]
  },
  {
   "cell_type": "markdown",
   "metadata": {},
   "source": [
    "## Save data"
   ]
  },
  {
   "cell_type": "code",
   "execution_count": 14,
   "metadata": {},
   "outputs": [],
   "source": [
    "df.to_excel(\"complete_data_cleaned_with_impartiality.xlsx\")"
   ]
  }
 ],
 "metadata": {
  "environment": {
   "name": "common-cpu.m48",
   "type": "gcloud",
   "uri": "gcr.io/deeplearning-platform-release/base-cpu:m48"
  },
  "kernelspec": {
   "display_name": "Python 3",
   "language": "python",
   "name": "python3"
  },
  "language_info": {
   "codemirror_mode": {
    "name": "ipython",
    "version": 3
   },
   "file_extension": ".py",
   "mimetype": "text/x-python",
   "name": "python",
   "nbconvert_exporter": "python",
   "pygments_lexer": "ipython3",
   "version": "3.7.6"
  }
 },
 "nbformat": 4,
 "nbformat_minor": 4
}
