{
 "cells": [
  {
   "cell_type": "markdown",
   "metadata": {},
   "source": [
    "# Hypothesis testing: readability\n",
    "\n",
    "In this Notebook, the readability data is explored and the related hypotheses are (partially) tested."
   ]
  },
  {
   "cell_type": "markdown",
   "metadata": {},
   "source": [
    "## Loading packages and data"
   ]
  },
  {
   "cell_type": "code",
   "execution_count": 1,
   "metadata": {},
   "outputs": [],
   "source": [
    "#import the necessary packages\n",
    "import pandas as pd\n",
    "from pandas import read_excel\n",
    "from scipy import stats\n",
    "from scipy.stats import mannwhitneyu"
   ]
  },
  {
   "cell_type": "code",
   "execution_count": 2,
   "metadata": {},
   "outputs": [
    {
     "data": {
      "text/html": [
       "<div>\n",
       "<style scoped>\n",
       "    .dataframe tbody tr th:only-of-type {\n",
       "        vertical-align: middle;\n",
       "    }\n",
       "\n",
       "    .dataframe tbody tr th {\n",
       "        vertical-align: top;\n",
       "    }\n",
       "\n",
       "    .dataframe thead th {\n",
       "        text-align: right;\n",
       "    }\n",
       "</style>\n",
       "<table border=\"1\" class=\"dataframe\">\n",
       "  <thead>\n",
       "    <tr style=\"text-align: right;\">\n",
       "      <th></th>\n",
       "      <th>Unnamed: 0</th>\n",
       "      <th>Unnamed: 0.1</th>\n",
       "      <th>ID</th>\n",
       "      <th>Newspaper</th>\n",
       "      <th>Date</th>\n",
       "      <th>Length</th>\n",
       "      <th>Category</th>\n",
       "      <th>Author</th>\n",
       "      <th>Headline</th>\n",
       "      <th>Teaser</th>\n",
       "      <th>...</th>\n",
       "      <th>person dummy</th>\n",
       "      <th>organisation dummy</th>\n",
       "      <th>nea dummy</th>\n",
       "      <th>noa dummy</th>\n",
       "      <th>rea dummy</th>\n",
       "      <th>roa dummy</th>\n",
       "      <th>ea dummy</th>\n",
       "      <th>oa dummy</th>\n",
       "      <th>diversity index</th>\n",
       "      <th>diversity index all actors</th>\n",
       "    </tr>\n",
       "  </thead>\n",
       "  <tbody>\n",
       "    <tr>\n",
       "      <th>0</th>\n",
       "      <td>0</td>\n",
       "      <td>6</td>\n",
       "      <td>100006</td>\n",
       "      <td>sueddeutschet politik (www)</td>\n",
       "      <td>2020-05-28T15:34:08</td>\n",
       "      <td>367</td>\n",
       "      <td>NaN</td>\n",
       "      <td>NaN</td>\n",
       "      <td>SZ Espresso: Nachrichten kompakt - die Übersic...</td>\n",
       "      <td>&lt;p&gt;Was heute wichtig war - und was Sie auf SZ....</td>\n",
       "      <td>...</td>\n",
       "      <td>1</td>\n",
       "      <td>1</td>\n",
       "      <td>0</td>\n",
       "      <td>0</td>\n",
       "      <td>0</td>\n",
       "      <td>0</td>\n",
       "      <td>0</td>\n",
       "      <td>0</td>\n",
       "      <td>2</td>\n",
       "      <td>2</td>\n",
       "    </tr>\n",
       "    <tr>\n",
       "      <th>1</th>\n",
       "      <td>1</td>\n",
       "      <td>8</td>\n",
       "      <td>100008</td>\n",
       "      <td>sueddeutschet politik (www)</td>\n",
       "      <td>2020-05-28T17:01:43</td>\n",
       "      <td>200</td>\n",
       "      <td>NaN</td>\n",
       "      <td>NaN</td>\n",
       "      <td>Kommunalpolitik: Abgeblendet</td>\n",
       "      <td>&lt;p&gt;Bayreuths Stadtrat im Stream&lt;/p&gt;</td>\n",
       "      <td>...</td>\n",
       "      <td>1</td>\n",
       "      <td>0</td>\n",
       "      <td>0</td>\n",
       "      <td>0</td>\n",
       "      <td>0</td>\n",
       "      <td>0</td>\n",
       "      <td>0</td>\n",
       "      <td>0</td>\n",
       "      <td>1</td>\n",
       "      <td>1</td>\n",
       "    </tr>\n",
       "    <tr>\n",
       "      <th>2</th>\n",
       "      <td>2</td>\n",
       "      <td>24</td>\n",
       "      <td>100024</td>\n",
       "      <td>aachener zeitung (www)</td>\n",
       "      <td>2020-05-28T03:01:52</td>\n",
       "      <td>512</td>\n",
       "      <td>Politik</td>\n",
       "      <td>NaN</td>\n",
       "      <td>Länder planen Öffnung: Streit über Schulen und...</td>\n",
       "      <td>&lt;img src=\"https://www.aachener-zeitung.de/imgs...</td>\n",
       "      <td>...</td>\n",
       "      <td>1</td>\n",
       "      <td>1</td>\n",
       "      <td>1</td>\n",
       "      <td>1</td>\n",
       "      <td>0</td>\n",
       "      <td>0</td>\n",
       "      <td>1</td>\n",
       "      <td>1</td>\n",
       "      <td>4</td>\n",
       "      <td>4</td>\n",
       "    </tr>\n",
       "  </tbody>\n",
       "</table>\n",
       "<p>3 rows × 33 columns</p>\n",
       "</div>"
      ],
      "text/plain": [
       "   Unnamed: 0  Unnamed: 0.1      ID                    Newspaper  \\\n",
       "0           0             6  100006  sueddeutschet politik (www)   \n",
       "1           1             8  100008  sueddeutschet politik (www)   \n",
       "2           2            24  100024       aachener zeitung (www)   \n",
       "\n",
       "                  Date  Length Category Author  \\\n",
       "0  2020-05-28T15:34:08     367      NaN    NaN   \n",
       "1  2020-05-28T17:01:43     200      NaN    NaN   \n",
       "2  2020-05-28T03:01:52     512  Politik    NaN   \n",
       "\n",
       "                                            Headline  \\\n",
       "0  SZ Espresso: Nachrichten kompakt - die Übersic...   \n",
       "1                       Kommunalpolitik: Abgeblendet   \n",
       "2  Länder planen Öffnung: Streit über Schulen und...   \n",
       "\n",
       "                                              Teaser  ... person dummy  \\\n",
       "0  <p>Was heute wichtig war - und was Sie auf SZ....  ...            1   \n",
       "1                <p>Bayreuths Stadtrat im Stream</p>  ...            1   \n",
       "2  <img src=\"https://www.aachener-zeitung.de/imgs...  ...            1   \n",
       "\n",
       "  organisation dummy nea dummy noa dummy  rea dummy  roa dummy  ea dummy  \\\n",
       "0                  1         0         0          0          0         0   \n",
       "1                  0         0         0          0          0         0   \n",
       "2                  1         1         1          0          0         1   \n",
       "\n",
       "   oa dummy  diversity index  diversity index all actors  \n",
       "0         0                2                           2  \n",
       "1         0                1                           1  \n",
       "2         1                4                           4  \n",
       "\n",
       "[3 rows x 33 columns]"
      ]
     },
     "execution_count": 2,
     "metadata": {},
     "output_type": "execute_result"
    }
   ],
   "source": [
    "#read and inspect the data\n",
    "df = read_excel(\"complete_data_cleaned_with_actor_diversity.xlsx\")\n",
    "df.head(3)"
   ]
  },
  {
   "cell_type": "code",
   "execution_count": 3,
   "metadata": {},
   "outputs": [
    {
     "data": {
      "text/plain": [
       "Index(['Unnamed: 0', 'Unnamed: 0.1', 'ID', 'Newspaper', 'Date', 'Length',\n",
       "       'Category', 'Author', 'Headline', 'Teaser', 'Article', 'Modality',\n",
       "       'url', 'clean text', 'words in clean text', 'reach_dummy',\n",
       "       'modality_dummy', 'persons', 'organisations', 'national_elite_actors',\n",
       "       'national_opposition_actors', 'regional_elite_actors',\n",
       "       'regional_opposition_actors', 'person dummy', 'organisation dummy',\n",
       "       'nea dummy', 'noa dummy', 'rea dummy', 'roa dummy', 'ea dummy',\n",
       "       'oa dummy', 'diversity index', 'diversity index all actors'],\n",
       "      dtype='object')"
      ]
     },
     "execution_count": 3,
     "metadata": {},
     "output_type": "execute_result"
    }
   ],
   "source": [
    "df.columns"
   ]
  },
  {
   "cell_type": "markdown",
   "metadata": {},
   "source": [
    "## Select relevant columns"
   ]
  },
  {
   "cell_type": "code",
   "execution_count": 4,
   "metadata": {},
   "outputs": [
    {
     "data": {
      "text/plain": [
       "11491"
      ]
     },
     "execution_count": 4,
     "metadata": {},
     "output_type": "execute_result"
    }
   ],
   "source": [
    "df = df[[\"ID\", \"Newspaper\", \"Length\", \"Article\", \"modality_dummy\", \"reach_dummy\", \"clean text\", \n",
    "         \"persons\", \"organisations\", \"national_elite_actors\", \"national_opposition_actors\", \"regional_elite_actors\", \n",
    "         \"regional_opposition_actors\", \"person dummy\", \"organisation dummy\",\"nea dummy\", \"noa dummy\", \"rea dummy\",\n",
    "         \"roa dummy\", \"diversity index\", \"ea dummy\", \"oa dummy\", \"diversity index all actors\"]]\n",
    "len(df)"
   ]
  },
  {
   "cell_type": "markdown",
   "metadata": {},
   "source": [
    "## Descriptives"
   ]
  },
  {
   "cell_type": "code",
   "execution_count": 5,
   "metadata": {},
   "outputs": [
    {
     "name": "stdout",
     "output_type": "stream",
     "text": [
      "Overall sample\n",
      "2.521016447654686\n",
      "0.7965151758779676\n"
     ]
    }
   ],
   "source": [
    "print(\"Overall sample\")\n",
    "print(df[\"diversity index\"].mean())\n",
    "print(df[\"diversity index\"].std())"
   ]
  },
  {
   "cell_type": "code",
   "execution_count": 6,
   "metadata": {},
   "outputs": [
    {
     "name": "stdout",
     "output_type": "stream",
     "text": [
      "Print sample\n",
      "2.546693540646895\n",
      "0.7874540330357805\n",
      "\n",
      "Online sample\n",
      "2.271455223880597\n",
      "0.8401716788295912\n"
     ]
    }
   ],
   "source": [
    "print(\"Print sample\")\n",
    "print(df[df[\"modality_dummy\"] == 1][\"diversity index\"].mean())\n",
    "print(df[df[\"modality_dummy\"] == 1][\"diversity index\"].std())\n",
    "print(\"\")\n",
    "print(\"Online sample\")\n",
    "print(df[df[\"modality_dummy\"] == 0][\"diversity index\"].mean())\n",
    "print(df[df[\"modality_dummy\"] == 0][\"diversity index\"].std())"
   ]
  },
  {
   "cell_type": "code",
   "execution_count": 7,
   "metadata": {},
   "outputs": [
    {
     "name": "stdout",
     "output_type": "stream",
     "text": [
      "National sample\n",
      "2.520688052068805\n",
      "0.7636430274953114\n",
      "\n",
      "Regional sample\n",
      "2.5214370782056372\n",
      "0.8368124470758407\n"
     ]
    }
   ],
   "source": [
    "print(\"National sample\")\n",
    "print(df[df[\"reach_dummy\"] == 1][\"diversity index\"].mean())\n",
    "print(df[df[\"reach_dummy\"] == 1][\"diversity index\"].std())\n",
    "print(\"\")\n",
    "print(\"Regional sample\")\n",
    "print(df[df[\"reach_dummy\"] == 0][\"diversity index\"].mean())\n",
    "print(df[df[\"reach_dummy\"] == 0][\"diversity index\"].std())"
   ]
  },
  {
   "cell_type": "markdown",
   "metadata": {},
   "source": [
    "## Hypothesis test"
   ]
  },
  {
   "cell_type": "code",
   "execution_count": 10,
   "metadata": {},
   "outputs": [
    {
     "name": "stdout",
     "output_type": "stream",
     "text": [
      "RQ3a: Reach\n",
      "MannwhitneyuResult(statistic=16119588.5, pvalue=0.20372728542817847)\n"
     ]
    }
   ],
   "source": [
    "print(\"RQ3a: Reach\")\n",
    "print(mannwhitneyu(df[df[\"reach_dummy\"] == 1][\"diversity index\"], df[df[\"reach_dummy\"] == 0][\"diversity index\"]))"
   ]
  },
  {
   "cell_type": "code",
   "execution_count": 11,
   "metadata": {},
   "outputs": [
    {
     "name": "stdout",
     "output_type": "stream",
     "text": [
      "RQ3b: Moality\n",
      "MannwhitneyuResult(statistic=4566643.5, pvalue=1.257397869946061e-26)\n"
     ]
    }
   ],
   "source": [
    "print(\"RQ3b: Moality\")\n",
    "print(mannwhitneyu(df[df[\"modality_dummy\"] == 1][\"diversity index\"], df[df[\"modality_dummy\"] == 0][\"diversity index\"]))"
   ]
  },
  {
   "cell_type": "markdown",
   "metadata": {},
   "source": [
    "## Comparisons"
   ]
  },
  {
   "cell_type": "code",
   "execution_count": 12,
   "metadata": {},
   "outputs": [
    {
     "data": {
      "text/html": [
       "<div>\n",
       "<style scoped>\n",
       "    .dataframe tbody tr th:only-of-type {\n",
       "        vertical-align: middle;\n",
       "    }\n",
       "\n",
       "    .dataframe tbody tr th {\n",
       "        vertical-align: top;\n",
       "    }\n",
       "\n",
       "    .dataframe thead th {\n",
       "        text-align: right;\n",
       "    }\n",
       "</style>\n",
       "<table border=\"1\" class=\"dataframe\">\n",
       "  <thead>\n",
       "    <tr style=\"text-align: right;\">\n",
       "      <th></th>\n",
       "      <th>diversity index</th>\n",
       "      <th>Length</th>\n",
       "    </tr>\n",
       "    <tr>\n",
       "      <th>Newspaper</th>\n",
       "      <th></th>\n",
       "      <th></th>\n",
       "    </tr>\n",
       "  </thead>\n",
       "  <tbody>\n",
       "    <tr>\n",
       "      <th>Aachener Zeitung</th>\n",
       "      <td>2.528866</td>\n",
       "      <td>484.008247</td>\n",
       "    </tr>\n",
       "    <tr>\n",
       "      <th>Der Tagesspiegel</th>\n",
       "      <td>2.656299</td>\n",
       "      <td>574.946345</td>\n",
       "    </tr>\n",
       "    <tr>\n",
       "      <th>Die Welt</th>\n",
       "      <td>2.625752</td>\n",
       "      <td>774.438026</td>\n",
       "    </tr>\n",
       "    <tr>\n",
       "      <th>Rheinische Post</th>\n",
       "      <td>2.541053</td>\n",
       "      <td>377.456000</td>\n",
       "    </tr>\n",
       "    <tr>\n",
       "      <th>Stuttgarter Zeitung</th>\n",
       "      <td>2.598222</td>\n",
       "      <td>394.241714</td>\n",
       "    </tr>\n",
       "    <tr>\n",
       "      <th>Süddeutsche Zeitung (inkl. Regionalausgaben)</th>\n",
       "      <td>2.482258</td>\n",
       "      <td>529.366129</td>\n",
       "    </tr>\n",
       "    <tr>\n",
       "      <th>aachener zeitung (www)</th>\n",
       "      <td>2.428571</td>\n",
       "      <td>401.488095</td>\n",
       "    </tr>\n",
       "    <tr>\n",
       "      <th>der tagesspiegel (www)</th>\n",
       "      <td>2.348485</td>\n",
       "      <td>574.189394</td>\n",
       "    </tr>\n",
       "    <tr>\n",
       "      <th>die welt (www)</th>\n",
       "      <td>2.531073</td>\n",
       "      <td>578.751412</td>\n",
       "    </tr>\n",
       "    <tr>\n",
       "      <th>rheinische post (www)</th>\n",
       "      <td>2.248555</td>\n",
       "      <td>338.699422</td>\n",
       "    </tr>\n",
       "    <tr>\n",
       "      <th>stuttgarter zeitung (www)</th>\n",
       "      <td>1.773913</td>\n",
       "      <td>279.678261</td>\n",
       "    </tr>\n",
       "    <tr>\n",
       "      <th>sueddeutschet politik (www)</th>\n",
       "      <td>2.091429</td>\n",
       "      <td>462.925714</td>\n",
       "    </tr>\n",
       "  </tbody>\n",
       "</table>\n",
       "</div>"
      ],
      "text/plain": [
       "                                              diversity index      Length\n",
       "Newspaper                                                                \n",
       "Aachener Zeitung                                     2.528866  484.008247\n",
       "Der Tagesspiegel                                     2.656299  574.946345\n",
       "Die Welt                                             2.625752  774.438026\n",
       "Rheinische Post                                      2.541053  377.456000\n",
       "Stuttgarter Zeitung                                  2.598222  394.241714\n",
       "Süddeutsche Zeitung (inkl. Regionalausgaben)         2.482258  529.366129\n",
       "aachener zeitung (www)                               2.428571  401.488095\n",
       "der tagesspiegel (www)                               2.348485  574.189394\n",
       "die welt (www)                                       2.531073  578.751412\n",
       "rheinische post (www)                                2.248555  338.699422\n",
       "stuttgarter zeitung (www)                            1.773913  279.678261\n",
       "sueddeutschet politik (www)                          2.091429  462.925714"
      ]
     },
     "execution_count": 12,
     "metadata": {},
     "output_type": "execute_result"
    }
   ],
   "source": [
    "#grouping by outlet\n",
    "df[[\"Newspaper\", \"diversity index\",\"Length\"]].groupby(\"Newspaper\").mean()"
   ]
  },
  {
   "cell_type": "code",
   "execution_count": 13,
   "metadata": {},
   "outputs": [
    {
     "data": {
      "text/html": [
       "<div>\n",
       "<style scoped>\n",
       "    .dataframe tbody tr th:only-of-type {\n",
       "        vertical-align: middle;\n",
       "    }\n",
       "\n",
       "    .dataframe tbody tr th {\n",
       "        vertical-align: top;\n",
       "    }\n",
       "\n",
       "    .dataframe thead th {\n",
       "        text-align: right;\n",
       "    }\n",
       "</style>\n",
       "<table border=\"1\" class=\"dataframe\">\n",
       "  <thead>\n",
       "    <tr style=\"text-align: right;\">\n",
       "      <th></th>\n",
       "      <th>diversity index</th>\n",
       "      <th>Length</th>\n",
       "    </tr>\n",
       "    <tr>\n",
       "      <th>Newspaper</th>\n",
       "      <th></th>\n",
       "      <th></th>\n",
       "    </tr>\n",
       "  </thead>\n",
       "  <tbody>\n",
       "    <tr>\n",
       "      <th>Aachener Zeitung</th>\n",
       "      <td>0.841206</td>\n",
       "      <td>2168.385235</td>\n",
       "    </tr>\n",
       "    <tr>\n",
       "      <th>Der Tagesspiegel</th>\n",
       "      <td>0.711268</td>\n",
       "      <td>360.531429</td>\n",
       "    </tr>\n",
       "    <tr>\n",
       "      <th>Die Welt</th>\n",
       "      <td>0.787408</td>\n",
       "      <td>390.822211</td>\n",
       "    </tr>\n",
       "    <tr>\n",
       "      <th>Rheinische Post</th>\n",
       "      <td>0.829568</td>\n",
       "      <td>240.238762</td>\n",
       "    </tr>\n",
       "    <tr>\n",
       "      <th>Stuttgarter Zeitung</th>\n",
       "      <td>0.789963</td>\n",
       "      <td>246.070360</td>\n",
       "    </tr>\n",
       "    <tr>\n",
       "      <th>Süddeutsche Zeitung (inkl. Regionalausgaben)</th>\n",
       "      <td>0.762955</td>\n",
       "      <td>367.377709</td>\n",
       "    </tr>\n",
       "    <tr>\n",
       "      <th>aachener zeitung (www)</th>\n",
       "      <td>0.872545</td>\n",
       "      <td>197.696919</td>\n",
       "    </tr>\n",
       "    <tr>\n",
       "      <th>der tagesspiegel (www)</th>\n",
       "      <td>0.724213</td>\n",
       "      <td>347.385381</td>\n",
       "    </tr>\n",
       "    <tr>\n",
       "      <th>die welt (www)</th>\n",
       "      <td>0.812121</td>\n",
       "      <td>362.892006</td>\n",
       "    </tr>\n",
       "    <tr>\n",
       "      <th>rheinische post (www)</th>\n",
       "      <td>0.822334</td>\n",
       "      <td>208.061602</td>\n",
       "    </tr>\n",
       "    <tr>\n",
       "      <th>stuttgarter zeitung (www)</th>\n",
       "      <td>0.964828</td>\n",
       "      <td>252.442092</td>\n",
       "    </tr>\n",
       "    <tr>\n",
       "      <th>sueddeutschet politik (www)</th>\n",
       "      <td>0.760131</td>\n",
       "      <td>284.725337</td>\n",
       "    </tr>\n",
       "  </tbody>\n",
       "</table>\n",
       "</div>"
      ],
      "text/plain": [
       "                                              diversity index       Length\n",
       "Newspaper                                                                 \n",
       "Aachener Zeitung                                     0.841206  2168.385235\n",
       "Der Tagesspiegel                                     0.711268   360.531429\n",
       "Die Welt                                             0.787408   390.822211\n",
       "Rheinische Post                                      0.829568   240.238762\n",
       "Stuttgarter Zeitung                                  0.789963   246.070360\n",
       "Süddeutsche Zeitung (inkl. Regionalausgaben)         0.762955   367.377709\n",
       "aachener zeitung (www)                               0.872545   197.696919\n",
       "der tagesspiegel (www)                               0.724213   347.385381\n",
       "die welt (www)                                       0.812121   362.892006\n",
       "rheinische post (www)                                0.822334   208.061602\n",
       "stuttgarter zeitung (www)                            0.964828   252.442092\n",
       "sueddeutschet politik (www)                          0.760131   284.725337"
      ]
     },
     "execution_count": 13,
     "metadata": {},
     "output_type": "execute_result"
    }
   ],
   "source": [
    "df[[\"Newspaper\", \"diversity index\",\"Length\"]].groupby(\"Newspaper\").std()"
   ]
  },
  {
   "cell_type": "markdown",
   "metadata": {},
   "source": [
    "## Means and standard deviations"
   ]
  },
  {
   "cell_type": "code",
   "execution_count": 20,
   "metadata": {},
   "outputs": [
    {
     "data": {
      "text/plain": [
       "460.11660447761193"
      ]
     },
     "execution_count": 20,
     "metadata": {},
     "output_type": "execute_result"
    }
   ],
   "source": [
    "df[df[\"modality_dummy\"] == 0][\"Length\"].mean()"
   ]
  },
  {
   "cell_type": "code",
   "execution_count": 21,
   "metadata": {},
   "outputs": [
    {
     "data": {
      "text/plain": [
       "499.6452634609847"
      ]
     },
     "execution_count": 21,
     "metadata": {},
     "output_type": "execute_result"
    }
   ],
   "source": [
    "df[df[\"modality_dummy\"] == 1][\"Length\"].mean()"
   ]
  },
  {
   "cell_type": "code",
   "execution_count": 22,
   "metadata": {},
   "outputs": [
    {
     "data": {
      "text/plain": [
       "399.331282254863"
      ]
     },
     "execution_count": 22,
     "metadata": {},
     "output_type": "execute_result"
    }
   ],
   "source": [
    "df[df[\"reach_dummy\"] == 0][\"Length\"].mean()"
   ]
  },
  {
   "cell_type": "code",
   "execution_count": 23,
   "metadata": {},
   "outputs": [
    {
     "data": {
      "text/plain": [
       "571.3959398729273"
      ]
     },
     "execution_count": 23,
     "metadata": {},
     "output_type": "execute_result"
    }
   ],
   "source": [
    "df[df[\"reach_dummy\"] == 1][\"Length\"].mean()"
   ]
  },
  {
   "cell_type": "code",
   "execution_count": 24,
   "metadata": {},
   "outputs": [
    {
     "data": {
      "text/plain": [
       "495.95761900617873"
      ]
     },
     "execution_count": 24,
     "metadata": {},
     "output_type": "execute_result"
    }
   ],
   "source": [
    "df[\"Length\"].mean()"
   ]
  },
  {
   "cell_type": "code",
   "execution_count": 25,
   "metadata": {},
   "outputs": [
    {
     "data": {
      "text/plain": [
       "709.936907820832"
      ]
     },
     "execution_count": 25,
     "metadata": {},
     "output_type": "execute_result"
    }
   ],
   "source": [
    "df[\"Length\"].std()"
   ]
  },
  {
   "cell_type": "code",
   "execution_count": 26,
   "metadata": {},
   "outputs": [
    {
     "data": {
      "text/plain": [
       "310.2046257339527"
      ]
     },
     "execution_count": 26,
     "metadata": {},
     "output_type": "execute_result"
    }
   ],
   "source": [
    "df[df[\"modality_dummy\"] == 0][\"Length\"].std()"
   ]
  },
  {
   "cell_type": "code",
   "execution_count": 27,
   "metadata": {},
   "outputs": [
    {
     "data": {
      "text/plain": [
       "738.806004987597"
      ]
     },
     "execution_count": 27,
     "metadata": {},
     "output_type": "execute_result"
    }
   ],
   "source": [
    "df[df[\"modality_dummy\"] == 1][\"Length\"].std()"
   ]
  },
  {
   "cell_type": "code",
   "execution_count": 29,
   "metadata": {},
   "outputs": [
    {
     "data": {
      "text/plain": [
       "976.1535881678966"
      ]
     },
     "execution_count": 29,
     "metadata": {},
     "output_type": "execute_result"
    }
   ],
   "source": [
    "df[df[\"reach_dummy\"] == 0][\"Length\"].std()"
   ]
  },
  {
   "cell_type": "code",
   "execution_count": 28,
   "metadata": {},
   "outputs": [
    {
     "data": {
      "text/plain": [
       "375.0764392797749"
      ]
     },
     "execution_count": 28,
     "metadata": {},
     "output_type": "execute_result"
    }
   ],
   "source": [
    "df[df[\"reach_dummy\"] == 1][\"Length\"].std()"
   ]
  },
  {
   "cell_type": "code",
   "execution_count": 34,
   "metadata": {},
   "outputs": [
    {
     "name": "stdout",
     "output_type": "stream",
     "text": [
      "AZ\n",
      "471.82601054481546\n",
      "2003.435474521646\n",
      "RP\n",
      "374.824568288854\n",
      "238.3547195936796\n",
      "STZ\n",
      "384.49704142011836\n",
      "248.5880393637322\n",
      "Welt\n",
      "740.0763888888889\n",
      "393.0139000577268\n",
      "TS\n",
      "574.8174193548388\n",
      "358.21639911153187\n",
      "SZ\n",
      "526.3810012836971\n",
      "364.2976978854891\n"
     ]
    }
   ],
   "source": [
    "print(\"AZ\")\n",
    "print(df[(df[\"Newspaper\"]== \"Aachener Zeitung\") | (df[\"Newspaper\"]== \"aachener zeitung (www)\")][\"Length\"].mean())\n",
    "print(df[(df[\"Newspaper\"]== \"Aachener Zeitung\") | (df[\"Newspaper\"]== \"aachener zeitung (www)\")][\"Length\"].std())\n",
    "print(\"RP\")\n",
    "print(df[(df[\"Newspaper\"]== \"Rheinische Post\") | (df[\"Newspaper\"]== \"rheinische post (www)\")][\"Length\"].mean())\n",
    "print(df[(df[\"Newspaper\"]== \"Rheinische Post\") | (df[\"Newspaper\"]== \"rheinische post (www)\")][\"Length\"].std())\n",
    "print(\"STZ\")\n",
    "print(df[(df[\"Newspaper\"]== \"Stuttgarter Zeitung\") | (df[\"Newspaper\"]== \"stuttgarter zeitung (www)\")][\"Length\"].mean())\n",
    "print(df[(df[\"Newspaper\"]== \"Stuttgarter Zeitung\") | (df[\"Newspaper\"]== \"stuttgarter zeitung (www)\")][\"Length\"].std())\n",
    "print(\"Welt\")\n",
    "print(df[(df[\"Newspaper\"]== \"Die Welt\") | (df[\"Newspaper\"]== \"die welt (www)\")][\"Length\"].mean())\n",
    "print(df[(df[\"Newspaper\"]== \"Die Welt\") | (df[\"Newspaper\"]== \"die welt (www)\")][\"Length\"].std())\n",
    "print(\"TS\")\n",
    "print(df[(df[\"Newspaper\"]== \"Der Tagesspiegel\") | (df[\"Newspaper\"]== \"der tagesspiegel (www)\")][\"Length\"].mean())\n",
    "print(df[(df[\"Newspaper\"]== \"Der Tagesspiegel\") | (df[\"Newspaper\"]== \"der tagesspiegel (www)\")][\"Length\"].std())\n",
    "print(\"SZ\")\n",
    "print(df[(df[\"Newspaper\"]== \"Süddeutsche Zeitung (inkl. Regionalausgaben)\") | (df[\"Newspaper\"]== \"sueddeutschet politik (www)\")][\"Length\"].mean())\n",
    "print(df[(df[\"Newspaper\"]== \"Süddeutsche Zeitung (inkl. Regionalausgaben)\") | (df[\"Newspaper\"]== \"sueddeutschet politik (www)\")][\"Length\"].std())"
   ]
  },
  {
   "cell_type": "code",
   "execution_count": null,
   "metadata": {},
   "outputs": [],
   "source": [
    "print(\"AZ\")\n",
    "print(df[(df[\"Newspaper\"]== \"Aachener Zeitung\") | (df[\"Newspaper\"]== \"aachener zeitung (www)\")][\"diversity index\"].mean())\n",
    "print(df[(df[\"Newspaper\"]== \"Aachener Zeitung\") | (df[\"Newspaper\"]== \"aachener zeitung (www)\")][\"diversity index\"].std())\n",
    "print(\"RP\")\n",
    "print(df[(df[\"Newspaper\"]== \"Rheinische Post\") | (df[\"Newspaper\"]== \"rheinische post (www)\")][\"diversity index\"].mean())\n",
    "print(df[(df[\"Newspaper\"]== \"Rheinische Post\") | (df[\"Newspaper\"]== \"rheinische post (www)\")][\"diversity index\"].std())\n",
    "print(\"STZ\")\n",
    "print(df[(df[\"Newspaper\"]== \"Stuttgarter Zeitung\") | (df[\"Newspaper\"]== \"stuttgarter zeitung (www)\")][\"diversity index\"].mean())\n",
    "print(df[(df[\"Newspaper\"]== \"Stuttgarter Zeitung\") | (df[\"Newspaper\"]== \"stuttgarter zeitung (www)\")][\"diversity index\"].std())\n",
    "print(\"Welt\")\n",
    "print(df[(df[\"Newspaper\"]== \"Die Welt\") | (df[\"Newspaper\"]== \"die welt (www)\")][\"diversity index\"].mean())\n",
    "print(df[(df[\"Newspaper\"]== \"Die Welt\") | (df[\"Newspaper\"]== \"die welt (www)\")][\"diversity index\"].std())\n",
    "print(\"TS\")\n",
    "print(df[(df[\"Newspaper\"]== \"Der Tagesspiegel\") | (df[\"Newspaper\"]== \"der tagesspiegel (www)\")][\"diversity index\"].mean())\n",
    "print(df[(df[\"Newspaper\"]== \"Der Tagesspiegel\") | (df[\"Newspaper\"]== \"der tagesspiegel (www)\")][\"diversity index\"].std())\n",
    "print(\"SZ\")\n",
    "print(df[(df[\"Newspaper\"]== \"Süddeutsche Zeitung (inkl. Regionalausgaben)\") | (df[\"Newspaper\"]== \"sueddeutschet politik (www)\")][\"diversity index\"].mean())\n",
    "print(df[(df[\"Newspaper\"]== \"Süddeutsche Zeitung (inkl. Regionalausgaben)\") | (df[\"Newspaper\"]== \"sueddeutschet politik (www)\")][\"diversity index\"].std())"
   ]
  },
  {
   "cell_type": "code",
   "execution_count": null,
   "metadata": {},
   "outputs": [],
   "source": []
  }
 ],
 "metadata": {
  "environment": {
   "name": "common-cpu.m48",
   "type": "gcloud",
   "uri": "gcr.io/deeplearning-platform-release/base-cpu:m48"
  },
  "kernelspec": {
   "display_name": "Python 3",
   "language": "python",
   "name": "python3"
  },
  "language_info": {
   "codemirror_mode": {
    "name": "ipython",
    "version": 3
   },
   "file_extension": ".py",
   "mimetype": "text/x-python",
   "name": "python",
   "nbconvert_exporter": "python",
   "pygments_lexer": "ipython3",
   "version": "3.7.6"
  }
 },
 "nbformat": 4,
 "nbformat_minor": 4
}
